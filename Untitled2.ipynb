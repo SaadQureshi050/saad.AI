{
  "nbformat": 4,
  "nbformat_minor": 0,
  "metadata": {
    "colab": {
      "provenance": []
    },
    "kernelspec": {
      "name": "python3",
      "display_name": "Python 3"
    },
    "language_info": {
      "name": "python"
    }
  },
  "cells": [
    {
      "cell_type": "markdown",
      "source": [],
      "metadata": {
        "id": "tkYcAiZKZfuV"
      }
    },
    {
      "cell_type": "markdown",
      "source": [
        "Create a 1D array of numbers from 0 to 9.\n"
      ],
      "metadata": {
        "id": "CGHHaH1tZPVV"
      }
    },
    {
      "cell_type": "code",
      "execution_count": 8,
      "metadata": {
        "colab": {
          "base_uri": "https://localhost:8080/"
        },
        "id": "oObN9m-bXgqM",
        "outputId": "41f6992d-f2dd-4992-93fb-37932ddb9a57"
      },
      "outputs": [
        {
          "output_type": "stream",
          "name": "stdout",
          "text": [
            "[1 2 3 4 5 6 7 8 9]\n"
          ]
        }
      ],
      "source": [
        "import numpy\n",
        "\n",
        "import numpy\n",
        "\n",
        "arr = numpy.array([1, 2, 3, 4, 5, 6, 7, 8, 9])\n",
        "\n",
        "print(arr)"
      ]
    },
    {
      "cell_type": "markdown",
      "source": [
        "\n",
        "\n",
        "```\n",
        "Create a 2D array with shape (3, 3), where values range from 1 to 9\n",
        "```\n",
        "\n"
      ],
      "metadata": {
        "id": "oFPf2C8dZM-G"
      }
    },
    {
      "cell_type": "code",
      "source": [
        "import numpy as np\n",
        "\n",
        "arr = np.array([[1,2,3,4,5,6,7,8,9],[1,2,3,4,5,6,7,8,9],[1,2,3,4,5,6,7,8,9]])\n",
        "\n",
        "print( arr)"
      ],
      "metadata": {
        "colab": {
          "base_uri": "https://localhost:8080/"
        },
        "id": "jXOJSH6sbXIO",
        "outputId": "01f4a8c7-f379-465d-ab84-9963b748521e"
      },
      "execution_count": 12,
      "outputs": [
        {
          "output_type": "stream",
          "name": "stdout",
          "text": [
            "[[1 2 3 4 5 6 7 8 9]\n",
            " [1 2 3 4 5 6 7 8 9]\n",
            " [1 2 3 4 5 6 7 8 9]]\n"
          ]
        }
      ]
    },
    {
      "cell_type": "markdown",
      "source": [
        "Create a 3D array of shape (2, 3, 4) filled with random integers from 1 to 100.\n"
      ],
      "metadata": {
        "id": "W-hFNthkbsA1"
      }
    },
    {
      "cell_type": "code",
      "source": [
        "import numpy as np\n",
        "arr = np.random.randint(1, 101, size=(2, 3, 4))\n",
        "print(arr)\n",
        "\n",
        "\n"
      ],
      "metadata": {
        "colab": {
          "base_uri": "https://localhost:8080/"
        },
        "id": "QlgVFZqwcFPm",
        "outputId": "60af434c-385d-406c-89b8-7bf73137e8b7"
      },
      "execution_count": 14,
      "outputs": [
        {
          "output_type": "stream",
          "name": "stdout",
          "text": [
            "[[[26 10 69 19]\n",
            "  [24 62 23 45]\n",
            "  [78 38 62 94]]\n",
            "\n",
            " [[48 49 45 89]\n",
            "  [23 86 90 98]\n",
            "  [63 55 79 50]]]\n"
          ]
        }
      ]
    },
    {
      "cell_type": "markdown",
      "source": [
        "Given the array arr2 from Task 1, extract the second row."
      ],
      "metadata": {
        "id": "ffNXnw5VfUD-"
      }
    },
    {
      "cell_type": "code",
      "source": [
        "import numpy as np\n",
        "second_row = arr[1, :]\n",
        "print(second_row)\n"
      ],
      "metadata": {
        "colab": {
          "base_uri": "https://localhost:8080/"
        },
        "id": "scr-PxnqfVWW",
        "outputId": "72679bca-5dc3-44d4-e941-58430e5a79ee"
      },
      "execution_count": 15,
      "outputs": [
        {
          "output_type": "stream",
          "name": "stdout",
          "text": [
            "[[48 49 45 89]\n",
            " [23 86 90 98]\n",
            " [63 55 79 50]]\n"
          ]
        }
      ]
    }
  ]
}